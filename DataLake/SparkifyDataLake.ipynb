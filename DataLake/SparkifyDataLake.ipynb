{
 "cells": [
  {
   "cell_type": "code",
   "execution_count": 19,
   "id": "ccc78e1c-3d0a-4eb1-b291-66c665604ee8",
   "metadata": {
    "execution": {
     "iopub.execute_input": "2022-09-16T12:22:11.095721Z",
     "iopub.status.busy": "2022-09-16T12:22:11.095383Z",
     "iopub.status.idle": "2022-09-16T12:22:11.222451Z",
     "shell.execute_reply": "2022-09-16T12:22:11.215216Z",
     "shell.execute_reply.started": "2022-09-16T12:22:11.095682Z"
    },
    "tags": []
   },
   "outputs": [
    {
     "data": {
      "application/vnd.jupyter.widget-view+json": {
       "model_id": "9d2a803faa4b427f9d7c1110e7693e8c",
       "version_major": 2,
       "version_minor": 0
      },
      "text/plain": [
       "VBox()"
      ]
     },
     "metadata": {},
     "output_type": "display_data"
    },
    {
     "data": {
      "application/vnd.jupyter.widget-view+json": {
       "model_id": "",
       "version_major": 2,
       "version_minor": 0
      },
      "text/plain": [
       "FloatProgress(value=0.0, bar_style='info', description='Progress:', layout=Layout(height='25px', width='50%'),…"
      ]
     },
     "metadata": {},
     "output_type": "display_data"
    }
   ],
   "source": [
    "import configparser\n",
    "from datetime import datetime\n",
    "import os\n",
    "from pyspark.sql import SparkSession\n",
    "from pyspark.sql.functions import *\n",
    "\n",
    "from pyspark.sql.types import TimestampType, DateType"
   ]
  },
  {
   "cell_type": "code",
   "execution_count": 10,
   "id": "69aa7acc-21ea-4a14-8294-150a89c3216d",
   "metadata": {
    "execution": {
     "iopub.execute_input": "2022-09-16T12:17:20.715686Z",
     "iopub.status.busy": "2022-09-16T12:17:20.715324Z",
     "iopub.status.idle": "2022-09-16T12:17:20.908397Z",
     "shell.execute_reply": "2022-09-16T12:17:20.904115Z",
     "shell.execute_reply.started": "2022-09-16T12:17:20.715644Z"
    },
    "tags": []
   },
   "outputs": [
    {
     "data": {
      "application/vnd.jupyter.widget-view+json": {
       "model_id": "f226d61d03ba47a2bf15dc16aed5aa38",
       "version_major": 2,
       "version_minor": 0
      },
      "text/plain": [
       "VBox()"
      ]
     },
     "metadata": {},
     "output_type": "display_data"
    },
    {
     "data": {
      "application/vnd.jupyter.widget-view+json": {
       "model_id": "",
       "version_major": 2,
       "version_minor": 0
      },
      "text/plain": [
       "FloatProgress(value=0.0, bar_style='info', description='Progress:', layout=Layout(height='25px', width='50%'),…"
      ]
     },
     "metadata": {},
     "output_type": "display_data"
    }
   ],
   "source": [
    "def create_spark_session():\n",
    "    \"\"\"\n",
    "    Creating spark session\n",
    "    \"\"\"\n",
    "    spark = SparkSession \\\n",
    "        .builder \\\n",
    "        .config(\"spark.jars.packages\", \"org.apache.hadoop:hadoop-aws:2.7.0\") \\\n",
    "        .getOrCreate()\n",
    "    return spark\n",
    "\n",
    "\n",
    "def process_song_data(spark, input_data, output_data):\n",
    "    \"\"\"\n",
    "    Processing the song data\n",
    "    \n",
    "    Keyword arguments:\n",
    "    spark - spark session \n",
    "    input_data - a link to input data on S3\n",
    "    output_data - a link to output data on S3\n",
    "    \"\"\"\n",
    "    # get filepath to song data file\n",
    "    song_data = os.path.join(input_data, 'song_data/A/A/*/*.json')\n",
    "    \n",
    "    # read song data file\n",
    "    df = spark.read.json(song_data)\n",
    "\n",
    "    # extract columns to create songs table\n",
    "    songs_table = df.select('num_songs',\n",
    "                            'artist_id',\n",
    "                            'song_id',\n",
    "                            'title',\n",
    "                            'duration',\n",
    "                            'year').dropDuplicates()\n",
    "    \n",
    "    # write songs table to parquet files partitioned by year and artist\n",
    "    \n",
    "    songs_table.write.partitionBy('year',\n",
    "                                  'artist_id')\\\n",
    "                     .mode('overwrite')\\\n",
    "                     .parquet(os.path.join(output_data, 'songs'))\n",
    "\n",
    "    # extract columns to create artists table\n",
    "    artists_table = df.select('artist_id',\n",
    "                              'artist_latitude',\n",
    "                              'artist_longitude',\n",
    "                              'artist_location',\n",
    "                              'artist_name').dropDuplicates()\n",
    "    \n",
    "    # write artists table to parquet files\n",
    "    \n",
    "    artists_table.write.mode('overwrite')\\\n",
    "                       .parquet(os.path.join(output_data, 'artists'))"
   ]
  },
  {
   "cell_type": "code",
   "execution_count": 32,
   "id": "59473683-6ba7-4437-8ad5-d79dcc275b59",
   "metadata": {
    "execution": {
     "iopub.execute_input": "2022-09-16T12:27:55.652771Z",
     "iopub.status.busy": "2022-09-16T12:27:55.652419Z",
     "iopub.status.idle": "2022-09-16T12:27:55.774788Z",
     "shell.execute_reply": "2022-09-16T12:27:55.771229Z",
     "shell.execute_reply.started": "2022-09-16T12:27:55.652732Z"
    },
    "tags": []
   },
   "outputs": [
    {
     "data": {
      "application/vnd.jupyter.widget-view+json": {
       "model_id": "95c11c5c9ed242ac88f49a7bd0b1c4e0",
       "version_major": 2,
       "version_minor": 0
      },
      "text/plain": [
       "VBox()"
      ]
     },
     "metadata": {},
     "output_type": "display_data"
    },
    {
     "data": {
      "application/vnd.jupyter.widget-view+json": {
       "model_id": "",
       "version_major": 2,
       "version_minor": 0
      },
      "text/plain": [
       "FloatProgress(value=0.0, bar_style='info', description='Progress:', layout=Layout(height='25px', width='50%'),…"
      ]
     },
     "metadata": {},
     "output_type": "display_data"
    }
   ],
   "source": [
    "def process_log_data(spark, input_data, output_data):\n",
    "    \"\"\"\n",
    "    Processing the log data\n",
    "    \n",
    "    Keyword arguments:\n",
    "    spark - spark session \n",
    "    input_data - a link to input data on S3\n",
    "    output_data - a link to output data on S3\n",
    "    \"\"\"\n",
    "    # get filepath to log data file\n",
    "    log_data = os.path.join(input_data, 'log_data/2018/11/*.json')\n",
    "\n",
    "    # read log data file\n",
    "    df = spark.read.json(log_data)\n",
    "    \n",
    "    # filter by actions for song plays\n",
    "    df = df.filter(df.page == 'NextSong')\n",
    "\n",
    "    # extract columns for users table    \n",
    "    users_table = df.select('userId',\\\n",
    "                            'firstName',\\\n",
    "                            'lastName',\\\n",
    "                            'gender',\\\n",
    "                            'level').dropDuplicates()\n",
    "    \n",
    "    # write users table to parquet files\n",
    "    users_table.write.mode('overwrite')\\\n",
    "                     .parquet(os.path.join(output_data, 'users'))\n",
    "\n",
    "    # create timestamp column from original timestamp column\n",
    "    # timestamp string to DateType\n",
    "    df = df.withColumn('start_time', to_timestamp(df.ts).cast('string'))\n",
    "    \n",
    "    # create datetime column from original timestamp column\n",
    "    df = df.withColumn('hour', hour(to_timestamp(df.ts)))\n",
    "    df = df.withColumn('day', dayofmonth(to_timestamp(df.ts)))\n",
    "    df = df.withColumn('week', weekofyear(to_timestamp(df.ts)))\n",
    "    df = df.withColumn('month', month(to_timestamp(df.ts)))\n",
    "    df = df.withColumn('year', year(to_timestamp(df.ts)))\n",
    "    df = df.withColumn('dayofweek', dayofweek(to_timestamp(df.ts)))\n",
    "    \n",
    "    # extract columns to create time table\n",
    "    time_table = df.select('start_time',\\\n",
    "                           'hour',\\\n",
    "                           'day',\\\n",
    "                           'week',\\\n",
    "                           'month',\\\n",
    "                           'year',\\\n",
    "                           'dayofweek').dropDuplicates()\n",
    "    \n",
    "    # write time table to parquet files partitioned by year and month\n",
    "    time_table.write.partitionBy('year', 'month')\\\n",
    "                    .mode('overwrite')\\\n",
    "                    .parquet(os.path.join(output_data, 'time'))\n",
    "\n",
    "    # read in song data to use for songplays table\n",
    "    song_df = spark.read.parquet('song_data/songs')\n",
    "\n",
    "    # extract columns from joined song and log datasets to create songplays table\n",
    "    conditions = [song_df.title == df.song, song_df.artist_name == df.artist]\n",
    "    songplays_table = df.join(song_df, conditions)\n",
    "\n",
    "    # write songplays table to parquet files partitioned by year and month\n",
    "    songplays_table.mode('overwrite')\\\n",
    "                   .parquet(os.path.join(output_data, 'songplays'))"
   ]
  },
  {
   "cell_type": "code",
   "execution_count": null,
   "id": "32052569-fda0-44bd-ab1b-f30e13956322",
   "metadata": {
    "execution": {
     "iopub.execute_input": "2022-09-16T12:27:55.787481Z",
     "iopub.status.busy": "2022-09-16T12:27:55.787221Z"
    },
    "tags": []
   },
   "outputs": [
    {
     "data": {
      "application/vnd.jupyter.widget-view+json": {
       "model_id": "8d1ce684942e45da8588d554b610c5d4",
       "version_major": 2,
       "version_minor": 0
      },
      "text/plain": [
       "VBox()"
      ]
     },
     "metadata": {},
     "output_type": "display_data"
    },
    {
     "data": {
      "application/vnd.jupyter.widget-view+json": {
       "model_id": "bf0742fbe6894597ab3f10ce740ad84e",
       "version_major": 2,
       "version_minor": 0
      },
      "text/plain": [
       "FloatProgress(value=0.0, bar_style='info', description='Progress:', layout=Layout(height='25px', width='50%'),…"
      ]
     },
     "metadata": {},
     "output_type": "display_data"
    }
   ],
   "source": [
    "def main():\n",
    "    \"\"\"\n",
    "    Main ETL process\n",
    "    \"\"\"\n",
    "    spark = create_spark_session()\n",
    "    input_data = \"s3a://udacity-dend/\"\n",
    "    output_data = 's3://aws-logs-008040186545-us-east-1/output/'\n",
    "    \n",
    "    process_song_data(spark, input_data, output_data)    \n",
    "    process_log_data(spark, input_data, output_data)\n",
    "\n",
    "main()"
   ]
  },
  {
   "cell_type": "code",
   "execution_count": null,
   "id": "5da63f76-f886-40f2-8ae5-e8551d4554c3",
   "metadata": {},
   "outputs": [],
   "source": []
  }
 ],
 "metadata": {
  "kernelspec": {
   "display_name": "PySpark",
   "language": "python",
   "name": "pysparkkernel"
  },
  "language_info": {
   "codemirror_mode": {
    "name": "python",
    "version": 3
   },
   "file_extension": ".py",
   "mimetype": "text/x-python",
   "name": "pyspark",
   "pygments_lexer": "python3"
  }
 },
 "nbformat": 4,
 "nbformat_minor": 5
}
